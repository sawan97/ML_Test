{
 "cells": [
  {
   "cell_type": "markdown",
   "id": "bac0e924-88f6-4a94-b728-56bd547f0e65",
   "metadata": {},
   "source": [
    "***Question No.2***"
   ]
  },
  {
   "cell_type": "code",
   "execution_count": 1,
   "id": "912797ed-56b7-481b-938c-15d591fe301a",
   "metadata": {},
   "outputs": [],
   "source": [
    "import numpy as np\n",
    "import pandas as pd"
   ]
  },
  {
   "cell_type": "code",
   "execution_count": 2,
   "id": "642257cf-ed23-43ba-9149-7377161de4da",
   "metadata": {},
   "outputs": [],
   "source": [
    "M1 = [\n",
    "    [1,2,3],\n",
    "    [4,5,6]\n",
    "]"
   ]
  },
  {
   "cell_type": "code",
   "execution_count": 3,
   "id": "10c59f83-76ab-499e-aef8-67e41413238d",
   "metadata": {},
   "outputs": [],
   "source": [
    "M2 = [\n",
    "    [7,8],\n",
    "    [9,10],\n",
    "    [11,12]\n",
    "]"
   ]
  },
  {
   "cell_type": "markdown",
   "id": "8d450373-a816-46bf-9fbe-383614e3efe8",
   "metadata": {},
   "source": [
    "***MatriX Multipliction using List multiplication***"
   ]
  },
  {
   "cell_type": "code",
   "execution_count": 4,
   "id": "6e0a3246-0270-4b37-92ce-adb86e8756ea",
   "metadata": {},
   "outputs": [],
   "source": [
    "def matrix_mul_lists(A,B):\n",
    "    result_matrix_list = [[0] * len(M2[0]) for _ in range(len(M1))]\n",
    "    for i in range(len(M1)):\n",
    "     for j in range(len(M2[0])):\n",
    "         for k in range(len(M2)):\n",
    "             result_matrix_list[i][j] += M1[i][k]*M2[k][j]\n",
    "    return result_matrix_list"
   ]
  },
  {
   "cell_type": "code",
   "execution_count": 5,
   "id": "2c53690c-631d-49ba-a683-082b76af5480",
   "metadata": {},
   "outputs": [],
   "source": [
    "result_matrix_list = matrix_mul_lists(M1,M2)"
   ]
  },
  {
   "cell_type": "code",
   "execution_count": 6,
   "id": "926046dd-78a6-479b-ad76-f33d216f2d10",
   "metadata": {},
   "outputs": [
    {
     "data": {
      "text/plain": [
       "[[58, 64], [139, 154]]"
      ]
     },
     "execution_count": 6,
     "metadata": {},
     "output_type": "execute_result"
    }
   ],
   "source": [
    "result_matrix_list"
   ]
  },
  {
   "cell_type": "markdown",
   "id": "cee74e72-3ff8-4dab-afcf-89c7aecf082f",
   "metadata": {},
   "source": [
    "***Matrix Multilication using Numpy array***"
   ]
  },
  {
   "cell_type": "code",
   "execution_count": 7,
   "id": "8ca17609-3b64-430a-92bb-a41bdb9b79af",
   "metadata": {},
   "outputs": [],
   "source": [
    "M3 = np.array([[1,2,3],\n",
    "              [4,5,6]])"
   ]
  },
  {
   "cell_type": "code",
   "execution_count": 8,
   "id": "03ff93f2-fcc0-4c58-b86d-e306b0d26815",
   "metadata": {},
   "outputs": [],
   "source": [
    "M4 = np.array([[7,8],\n",
    "               [9,10],\n",
    "               [11,12]])"
   ]
  },
  {
   "cell_type": "code",
   "execution_count": 9,
   "id": "a112e92d-1408-438a-b58d-ced7b13dab29",
   "metadata": {},
   "outputs": [],
   "source": [
    "def matrix_mul_numpy(A,B):\n",
    "    return M3@M4"
   ]
  },
  {
   "cell_type": "code",
   "execution_count": 10,
   "id": "2da265a5-1452-4b98-86a7-2c16ef13bae5",
   "metadata": {},
   "outputs": [],
   "source": [
    "result_Matrix_numpy = matrix_mul_numpy(M3,M4)"
   ]
  },
  {
   "cell_type": "code",
   "execution_count": 11,
   "id": "fd51786a-f5f8-4f97-9865-c8ff3342a675",
   "metadata": {},
   "outputs": [
    {
     "data": {
      "text/plain": [
       "array([[ 58,  64],\n",
       "       [139, 154]])"
      ]
     },
     "execution_count": 11,
     "metadata": {},
     "output_type": "execute_result"
    }
   ],
   "source": [
    "result_Matrix_numpy"
   ]
  },
  {
   "cell_type": "code",
   "execution_count": 12,
   "id": "38f5458a-7380-497d-9df4-493d2ed2c26e",
   "metadata": {},
   "outputs": [],
   "source": [
    "import timeit\n",
    "time_lists = timeit.timeit(lambda: matrix_mul_lists(M1, M2), number=10000)\n",
    "time_numpy = timeit.timeit(lambda: matrix_mul_numpy(M3, M4), number=10000)"
   ]
  },
  {
   "cell_type": "code",
   "execution_count": 13,
   "id": "0d1cb444-1468-4e9f-8159-3918d853e668",
   "metadata": {},
   "outputs": [
    {
     "name": "stdout",
     "output_type": "stream",
     "text": [
      "Time (list of lists): 0.072888 seconds\n",
      "Time (NumPy): 0.024395 seconds\n"
     ]
    }
   ],
   "source": [
    "print(f\"Time (list of lists): {time_lists:.6f} seconds\")\n",
    "print(f\"Time (NumPy): {time_numpy:.6f} seconds\")"
   ]
  },
  {
   "cell_type": "markdown",
   "id": "de4310bb-2681-4373-9464-7ef87d23f309",
   "metadata": {},
   "source": [
    "***Question no.3***"
   ]
  },
  {
   "cell_type": "markdown",
   "id": "9e8b558f-4149-48a1-82de-dd43404709d9",
   "metadata": {},
   "source": [
    "This linear method of passes will take O(n) in each pass, so overall complexity will be O($n^2$). A better solution can be sorting the array and then simply returning the middle element. which will take O(nlogn) time."
   ]
  },
  {
   "cell_type": "code",
   "execution_count": 14,
   "id": "b09fe4f0-d77a-478d-b18d-3d33a788c314",
   "metadata": {},
   "outputs": [],
   "source": [
    "list = [56,1,34,0,-1,88]"
   ]
  },
  {
   "cell_type": "code",
   "execution_count": 15,
   "id": "6e2ce6e8-3395-4d56-b541-15234a63428b",
   "metadata": {
    "scrolled": true
   },
   "outputs": [],
   "source": [
    "def median_linear_pass(arr):\n",
    "    n = len(arr)\n",
    "    for i in range(n):\n",
    "        maxm = max(arr[:n-i])\n",
    "        arr[arr.index(maxm)], arr[n - i - 1] = arr[n - i - 1], arr[arr.index(maxm)]\n",
    "        mid = n // 2\n",
    "        if(mid %2 == 1):\n",
    "            return arr[mid]\n",
    "        else:\n",
    "            return (arr[mid-1] + arr[mid]) / 2"
   ]
  },
  {
   "cell_type": "code",
   "execution_count": 16,
   "id": "24d8f39a-9fdc-4a88-be49-b03c88cd2278",
   "metadata": {},
   "outputs": [],
   "source": [
    "def median_sort(arr):\n",
    "    sorted_arr = sorted(arr)\n",
    "    n = len(sorted_arr)\n",
    "    mid = n // 2\n",
    "    if n % 2 == 1:\n",
    "        return sorted_arr[mid]\n",
    "    else:\n",
    "        return (sorted_arr[mid - 1] + sorted_arr[mid]) / 2"
   ]
  },
  {
   "cell_type": "code",
   "execution_count": 17,
   "id": "615c80b2-5a27-4000-a7b3-42a01584d4dc",
   "metadata": {},
   "outputs": [
    {
     "ename": "AttributeError",
     "evalue": "'numpy.ndarray' object has no attribute 'index'",
     "output_type": "error",
     "traceback": [
      "\u001b[1;31m---------------------------------------------------------------------------\u001b[0m",
      "\u001b[1;31mAttributeError\u001b[0m                            Traceback (most recent call last)",
      "Cell \u001b[1;32mIn[17], line 6\u001b[0m\n\u001b[0;32m      4\u001b[0m \u001b[38;5;66;03m# Compare the time taken by each method with numpy's median routine\u001b[39;00m\n\u001b[0;32m      5\u001b[0m start_time \u001b[38;5;241m=\u001b[39m time\u001b[38;5;241m.\u001b[39mtime()\n\u001b[1;32m----> 6\u001b[0m linear_median \u001b[38;5;241m=\u001b[39m \u001b[43mmedian_linear_pass\u001b[49m\u001b[43m(\u001b[49m\u001b[43marr\u001b[49m\u001b[38;5;241;43m.\u001b[39;49m\u001b[43mcopy\u001b[49m\u001b[43m(\u001b[49m\u001b[43m)\u001b[49m\u001b[43m)\u001b[49m\n\u001b[0;32m      7\u001b[0m linear_time \u001b[38;5;241m=\u001b[39m time\u001b[38;5;241m.\u001b[39mtime() \u001b[38;5;241m-\u001b[39m start_time\n\u001b[0;32m      9\u001b[0m start_time \u001b[38;5;241m=\u001b[39m time\u001b[38;5;241m.\u001b[39mtime()\n",
      "Cell \u001b[1;32mIn[15], line 5\u001b[0m, in \u001b[0;36mmedian_linear_pass\u001b[1;34m(arr)\u001b[0m\n\u001b[0;32m      3\u001b[0m \u001b[38;5;28;01mfor\u001b[39;00m i \u001b[38;5;129;01min\u001b[39;00m \u001b[38;5;28mrange\u001b[39m(n):\n\u001b[0;32m      4\u001b[0m     maxm \u001b[38;5;241m=\u001b[39m \u001b[38;5;28mmax\u001b[39m(arr[:n\u001b[38;5;241m-\u001b[39mi])\n\u001b[1;32m----> 5\u001b[0m     arr[arr\u001b[38;5;241m.\u001b[39mindex(maxm)], arr[n \u001b[38;5;241m-\u001b[39m i \u001b[38;5;241m-\u001b[39m \u001b[38;5;241m1\u001b[39m] \u001b[38;5;241m=\u001b[39m arr[n \u001b[38;5;241m-\u001b[39m i \u001b[38;5;241m-\u001b[39m \u001b[38;5;241m1\u001b[39m], arr[\u001b[43marr\u001b[49m\u001b[38;5;241;43m.\u001b[39;49m\u001b[43mindex\u001b[49m(maxm)]\n\u001b[0;32m      6\u001b[0m     mid \u001b[38;5;241m=\u001b[39m n \u001b[38;5;241m/\u001b[39m\u001b[38;5;241m/\u001b[39m \u001b[38;5;241m2\u001b[39m\n\u001b[0;32m      7\u001b[0m     \u001b[38;5;28;01mif\u001b[39;00m(mid \u001b[38;5;241m%\u001b[39m\u001b[38;5;241m2\u001b[39m \u001b[38;5;241m==\u001b[39m \u001b[38;5;241m1\u001b[39m):\n",
      "\u001b[1;31mAttributeError\u001b[0m: 'numpy.ndarray' object has no attribute 'index'"
     ]
    }
   ],
   "source": [
    "import time\n",
    "arr = np.random.rand(100)\n",
    "\n",
    "# Compare the time taken by each method with numpy's median routine\n",
    "start_time = time.time()\n",
    "linear_median = median_linear_pass(arr.copy())\n",
    "linear_time = time.time() - start_time\n",
    "\n",
    "start_time = time.time()\n",
    "sort_median = median_sort(arr.copy())\n",
    "sort_time = time.time() - start_time\n",
    "\n",
    "start_time = time.time()\n",
    "numpy_median = np.median(arr)\n",
    "numpy_time = time.time() - start_time\n",
    "\n",
    "print(f\"Linear Method: Median = {linear_median}, Time = {linear_time} seconds\")\n",
    "print(f\"Sorting Method: Median = {sort_median}, Time = {sort_time} seconds\")\n",
    "print(f\"Numpy Median: Median = {numpy_median}, Time = {numpy_time} seconds\")"
   ]
  },
  {
   "cell_type": "markdown",
   "id": "fd8b8017-54b5-49e2-ac8b-6ceeb50c1d57",
   "metadata": {},
   "source": [
    "***Question No.4***"
   ]
  },
  {
   "cell_type": "code",
   "execution_count": null,
   "id": "866e7d93-991f-4424-8955-1a5cd573aaa1",
   "metadata": {},
   "outputs": [],
   "source": []
  }
 ],
 "metadata": {
  "kernelspec": {
   "display_name": "Python 3 (ipykernel)",
   "language": "python",
   "name": "python3"
  },
  "language_info": {
   "codemirror_mode": {
    "name": "ipython",
    "version": 3
   },
   "file_extension": ".py",
   "mimetype": "text/x-python",
   "name": "python",
   "nbconvert_exporter": "python",
   "pygments_lexer": "ipython3",
   "version": "3.12.1"
  }
 },
 "nbformat": 4,
 "nbformat_minor": 5
}
