{
 "cells": [
  {
   "cell_type": "markdown",
   "id": "a528e586-756e-4da1-90ad-1f097e821c1c",
   "metadata": {},
   "source": [
    "***Question No.1***"
   ]
  },
  {
   "cell_type": "markdown",
   "id": "7afa06e1-c259-437a-ae60-bf05db476307",
   "metadata": {},
   "source": [
    "If you have a matrix A with dimensions (n, k) and a matrix B with dimensions (k, m), the resulting matrix C will have dimensions (n, m).So, for each element in the resulting matrix, you perform k multiplications and (k-1) additions.\r",
    "So, for each element in the resulting matrix, you perform k multiplications and (k-1) additions. Since there are n * m elements in the resulting matrix, the total number of multiplications would be $ n*m*k $ and number of additions would be $n*m*(k-1)$"
   ]
  },
  {
   "cell_type": "markdown",
   "id": "bac0e924-88f6-4a94-b728-56bd547f0e65",
   "metadata": {},
   "source": [
    "***Question No.2***"
   ]
  },
  {
   "cell_type": "code",
   "execution_count": 1,
   "id": "912797ed-56b7-481b-938c-15d591fe301a",
   "metadata": {},
   "outputs": [],
   "source": [
    "import numpy as np\n",
    "import pandas as pd"
   ]
  },
  {
   "cell_type": "code",
   "execution_count": 2,
   "id": "642257cf-ed23-43ba-9149-7377161de4da",
   "metadata": {},
   "outputs": [],
   "source": [
    "M1 = [\n",
    "    [1,2,3],\n",
    "    [4,5,6]\n",
    "]"
   ]
  },
  {
   "cell_type": "code",
   "execution_count": 3,
   "id": "10c59f83-76ab-499e-aef8-67e41413238d",
   "metadata": {},
   "outputs": [],
   "source": [
    "M2 = [\n",
    "    [7,8],\n",
    "    [9,10],\n",
    "    [11,12]\n",
    "]"
   ]
  },
  {
   "cell_type": "markdown",
   "id": "8d450373-a816-46bf-9fbe-383614e3efe8",
   "metadata": {},
   "source": [
    "***MatriX Multipliction using List multiplication***"
   ]
  },
  {
   "cell_type": "code",
   "execution_count": 4,
   "id": "6e0a3246-0270-4b37-92ce-adb86e8756ea",
   "metadata": {},
   "outputs": [],
   "source": [
    "def matrix_mul_lists(A,B):\n",
    "    result_matrix_list = [[0] * len(M2[0]) for _ in range(len(M1))]\n",
    "    for i in range(len(M1)):\n",
    "     for j in range(len(M2[0])):\n",
    "         for k in range(len(M2)):\n",
    "             result_matrix_list[i][j] += M1[i][k]*M2[k][j]\n",
    "    return result_matrix_list"
   ]
  },
  {
   "cell_type": "code",
   "execution_count": 5,
   "id": "2c53690c-631d-49ba-a683-082b76af5480",
   "metadata": {},
   "outputs": [],
   "source": [
    "result_matrix_list = matrix_mul_lists(M1,M2)"
   ]
  },
  {
   "cell_type": "code",
   "execution_count": 6,
   "id": "926046dd-78a6-479b-ad76-f33d216f2d10",
   "metadata": {},
   "outputs": [
    {
     "data": {
      "text/plain": [
       "[[58, 64], [139, 154]]"
      ]
     },
     "execution_count": 6,
     "metadata": {},
     "output_type": "execute_result"
    }
   ],
   "source": [
    "result_matrix_list"
   ]
  },
  {
   "cell_type": "markdown",
   "id": "cee74e72-3ff8-4dab-afcf-89c7aecf082f",
   "metadata": {},
   "source": [
    "***Matrix Multilication using Numpy array***"
   ]
  },
  {
   "cell_type": "code",
   "execution_count": 7,
   "id": "8ca17609-3b64-430a-92bb-a41bdb9b79af",
   "metadata": {},
   "outputs": [],
   "source": [
    "M3 = np.array([[1,2,3],\n",
    "              [4,5,6]])"
   ]
  },
  {
   "cell_type": "code",
   "execution_count": 8,
   "id": "03ff93f2-fcc0-4c58-b86d-e306b0d26815",
   "metadata": {},
   "outputs": [],
   "source": [
    "M4 = np.array([[7,8],\n",
    "               [9,10],\n",
    "               [11,12]])"
   ]
  },
  {
   "cell_type": "code",
   "execution_count": 9,
   "id": "a112e92d-1408-438a-b58d-ced7b13dab29",
   "metadata": {},
   "outputs": [],
   "source": [
    "def matrix_mul_numpy(A,B):\n",
    "    return M3@M4"
   ]
  },
  {
   "cell_type": "code",
   "execution_count": 10,
   "id": "2da265a5-1452-4b98-86a7-2c16ef13bae5",
   "metadata": {},
   "outputs": [],
   "source": [
    "result_Matrix_numpy = matrix_mul_numpy(M3,M4)"
   ]
  },
  {
   "cell_type": "code",
   "execution_count": 11,
   "id": "fd51786a-f5f8-4f97-9865-c8ff3342a675",
   "metadata": {},
   "outputs": [
    {
     "data": {
      "text/plain": [
       "array([[ 58,  64],\n",
       "       [139, 154]])"
      ]
     },
     "execution_count": 11,
     "metadata": {},
     "output_type": "execute_result"
    }
   ],
   "source": [
    "result_Matrix_numpy"
   ]
  },
  {
   "cell_type": "code",
   "execution_count": 12,
   "id": "38f5458a-7380-497d-9df4-493d2ed2c26e",
   "metadata": {},
   "outputs": [],
   "source": [
    "import timeit\n",
    "time_lists = timeit.timeit(lambda: matrix_mul_lists(M1, M2), number=10000)\n",
    "time_numpy = timeit.timeit(lambda: matrix_mul_numpy(M3, M4), number=10000)"
   ]
  },
  {
   "cell_type": "code",
   "execution_count": 13,
   "id": "0d1cb444-1468-4e9f-8159-3918d853e668",
   "metadata": {},
   "outputs": [
    {
     "name": "stdout",
     "output_type": "stream",
     "text": [
      "Time (list of lists): 0.085237 seconds\n",
      "Time (NumPy): 0.022936 seconds\n"
     ]
    }
   ],
   "source": [
    "print(f\"Time (list of lists): {time_lists:.6f} seconds\")\n",
    "print(f\"Time (NumPy): {time_numpy:.6f} seconds\")"
   ]
  },
  {
   "cell_type": "markdown",
   "id": "de4310bb-2681-4373-9464-7ef87d23f309",
   "metadata": {},
   "source": [
    "***Question no.3***"
   ]
  },
  {
   "cell_type": "markdown",
   "id": "9e8b558f-4149-48a1-82de-dd43404709d9",
   "metadata": {},
   "source": [
    "This linear method of passes will take O(n) in each pass, so overall complexity will be O($n^2$). A better solution can be sorting the array and then simply returning the middle element. which will take O(nlogn) time."
   ]
  },
  {
   "cell_type": "code",
   "execution_count": 14,
   "id": "b09fe4f0-d77a-478d-b18d-3d33a788c314",
   "metadata": {},
   "outputs": [],
   "source": [
    "list = [56,1,34,0,-1,88]"
   ]
  },
  {
   "cell_type": "code",
   "execution_count": 15,
   "id": "6e2ce6e8-3395-4d56-b541-15234a63428b",
   "metadata": {
    "scrolled": true
   },
   "outputs": [],
   "source": [
    "def median_linear_pass(arr):\n",
    "    n = int(len(arr)/2)\n",
    "    for i in range(n+1):\n",
    "        maxi=0\n",
    "        max=0\n",
    "        for j in range(len(arr)-i):\n",
    "            if arr[j]>max:\n",
    "                max=arr[j]\n",
    "                maxi=j\n",
    "        arr[maxi]=arr[len(arr)-i-1]\n",
    "        arr[len(arr)-i-1]=max\n",
    "    return arr[n]"
   ]
  },
  {
   "cell_type": "code",
   "execution_count": 16,
   "id": "24d8f39a-9fdc-4a88-be49-b03c88cd2278",
   "metadata": {},
   "outputs": [],
   "source": [
    "def median_sort(arr):\n",
    "    sorted_arr = sorted(arr)\n",
    "    n = len(sorted_arr)\n",
    "    mid = n // 2\n",
    "    if n % 2 == 1:\n",
    "        return sorted_arr[mid]\n",
    "    else:\n",
    "        return (sorted_arr[mid - 1] + sorted_arr[mid]) / 2"
   ]
  },
  {
   "cell_type": "code",
   "execution_count": 17,
   "id": "ca2b6b0c-014f-4ff3-9f23-7f232dd0423e",
   "metadata": {},
   "outputs": [
    {
     "name": "stdout",
     "output_type": "stream",
     "text": [
      "Linear Method: Median = 0.4982258443181843, Time = 0.08709931373596191 seconds\n",
      "Sorting Method: Median = 0.4979055133399061, Time = 0.015968799591064453 seconds\n",
      "Numpy Median: Median = 0.4979055133399061, Time = 0.0 seconds\n"
     ]
    }
   ],
   "source": [
    "import time\n",
    "arr = np.random.rand(1000)\n",
    "\n",
    "# Compare the time taken by each method with numpy's median routine\n",
    "start_time = time.time()\n",
    "linear_median = median_linear_pass(arr.copy())\n",
    "linear_time = time.time() - start_time\n",
    "\n",
    "start_time = time.time()\n",
    "sort_median = median_sort(arr.copy())\n",
    "sort_time = time.time() - start_time\n",
    "\n",
    "start_time = time.time()\n",
    "numpy_median = np.median(arr)\n",
    "numpy_time = time.time() - start_time\n",
    "\n",
    "print(f\"Linear Method: Median = {linear_median}, Time = {linear_time} seconds\")\n",
    "print(f\"Sorting Method: Median = {sort_median}, Time = {sort_time} seconds\")\n",
    "print(f\"Numpy Median: Median = {numpy_median}, Time = {numpy_time} seconds\")"
   ]
  },
  {
   "cell_type": "markdown",
   "id": "fd8b8017-54b5-49e2-ac8b-6ceeb50c1d57",
   "metadata": {},
   "source": [
    "***Question No.4***"
   ]
  },
  {
   "cell_type": "markdown",
   "id": "bc8690b5-57d1-482b-9fe7-a449b2ed016b",
   "metadata": {},
   "source": [
    "With Respect to x: \n",
    "    $2xy + y^3 cos(x) $  <br>\n",
    "    \n",
    "With Respect to y:\n",
    "    $x^2 + 3y^2sin(x)$\n",
    "    "
   ]
  },
  {
   "cell_type": "markdown",
   "id": "60767eec-929f-4868-9bde-e4d5623a062c",
   "metadata": {},
   "source": [
    "***Question No.5***"
   ]
  },
  {
   "cell_type": "code",
   "execution_count": 18,
   "id": "5c3c8d20-ccca-48b1-a244-62ca1e4423aa",
   "metadata": {},
   "outputs": [
    {
     "name": "stdout",
     "output_type": "stream",
     "text": [
      "Requirement already satisfied: jax in c:\\users\\hp\\appdata\\local\\programs\\python\\python312\\lib\\site-packages (0.4.23)\n",
      "Requirement already satisfied: jaxlib in c:\\users\\hp\\appdata\\local\\programs\\python\\python312\\lib\\site-packages (0.4.23)\n",
      "Requirement already satisfied: ml-dtypes>=0.2.0 in c:\\users\\hp\\appdata\\local\\programs\\python\\python312\\lib\\site-packages (from jax) (0.3.2)\n",
      "Requirement already satisfied: numpy>=1.22 in c:\\users\\hp\\appdata\\local\\programs\\python\\python312\\lib\\site-packages (from jax) (1.26.2)\n",
      "Requirement already satisfied: opt-einsum in c:\\users\\hp\\appdata\\local\\programs\\python\\python312\\lib\\site-packages (from jax) (3.3.0)\n",
      "Requirement already satisfied: scipy>=1.9 in c:\\users\\hp\\appdata\\local\\programs\\python\\python312\\lib\\site-packages (from jax) (1.11.4)\n"
     ]
    },
    {
     "name": "stderr",
     "output_type": "stream",
     "text": [
      "\n",
      "[notice] A new release of pip is available: 23.2.1 -> 23.3.2\n",
      "[notice] To update, run: python.exe -m pip install --upgrade pip\n"
     ]
    }
   ],
   "source": [
    "!pip install jax jaxlib"
   ]
  },
  {
   "cell_type": "code",
   "execution_count": 19,
   "id": "487f95fb-863f-45e1-9f25-ced34d6f36b7",
   "metadata": {},
   "outputs": [
    {
     "name": "stdout",
     "output_type": "stream",
     "text": [
      "Gradient with respect to x at x=2.0, y=3.0: 0.7640352249145508\n",
      "Gradient with respect to y at x=2.0, y=3.0: 28.551029205322266\n"
     ]
    }
   ],
   "source": [
    "import jax\n",
    "import jax.numpy as jnp\n",
    "\n",
    "# Define the function x^2y + y^3 * sin(x)\n",
    "def fun(x, y):\n",
    "    return jnp.power(x, 2) * y + jnp.power(y, 3) * jnp.sin(x)\n",
    "\n",
    "grad_fun = jax.grad(fun, argnums=(0, 1))\n",
    "x_val = 2.0\n",
    "y_val = 3.0\n",
    "# Test the function with some values\n",
    "der_x = grad_fun(x_val, y_val)[0]\n",
    "der_y = grad_fun(x_val, y_val)[1]\n",
    "\n",
    "print(f\"Gradient with respect to x at x={x_val}, y={y_val}: {der_x}\")\n",
    "print(f\"Gradient with respect to y at x={x_val}, y={y_val}: {der_y}\")\n"
   ]
  },
  {
   "cell_type": "markdown",
   "id": "878eb441-17e7-4a0e-866f-43c1864be423",
   "metadata": {},
   "source": [
    "Analytical solution -\n",
    "x = 2,y=3  \n",
    "With Respect to x: \n",
    "    $=2*2*3 + 3^3 cos(2) $  <br>\n",
    "    $=  12  +  27*cos(2)$ <br>\n",
    "    $ = 0.76403541322 $ <br>\n",
    "with respect to y:\n",
    "    $= 2^2 + 3*3^2sin(2)$ <br>\n",
    "    $= 4  +  27*sin(2)$<br>\n",
    "    $= 28.5510305243\n",
    "$"
   ]
  },
  {
   "cell_type": "markdown",
   "id": "52ea9d15-4912-4b32-9b17-70f79eec322e",
   "metadata": {},
   "source": [
    "***Question No.6***"
   ]
  },
  {
   "cell_type": "code",
   "execution_count": 20,
   "id": "8aa2b539-153a-411c-88ea-873bc23221d0",
   "metadata": {},
   "outputs": [
    {
     "name": "stdout",
     "output_type": "stream",
     "text": [
      "Requirement already satisfied: sympy in c:\\users\\hp\\appdata\\local\\programs\\python\\python312\\lib\\site-packages (1.12)\n",
      "Requirement already satisfied: mpmath>=0.19 in c:\\users\\hp\\appdata\\local\\programs\\python\\python312\\lib\\site-packages (from sympy) (1.3.0)\n"
     ]
    },
    {
     "name": "stderr",
     "output_type": "stream",
     "text": [
      "\n",
      "[notice] A new release of pip is available: 23.2.1 -> 23.3.2\n",
      "[notice] To update, run: python.exe -m pip install --upgrade pip\n"
     ]
    }
   ],
   "source": [
    "!pip install sympy"
   ]
  },
  {
   "cell_type": "code",
   "execution_count": 21,
   "id": "79078638-b269-4ffb-898a-c149005c245a",
   "metadata": {},
   "outputs": [],
   "source": [
    "import sympy as sp"
   ]
  },
  {
   "cell_type": "code",
   "execution_count": 22,
   "id": "af9fdd65-2ee5-4b80-a7aa-55ef1d9167b2",
   "metadata": {},
   "outputs": [
    {
     "name": "stdout",
     "output_type": "stream",
     "text": [
      "2*x*y + y**3*cos(x)\n",
      "x**2 + 3*y**2*sin(x)\n"
     ]
    }
   ],
   "source": [
    "x,y=sp.symbols('x y')\n",
    "exp = x**2 * y + y**3 * sp.sin(x)\n",
    "der_x = sp.diff(exp,x)\n",
    "der_y = sp.diff(exp,y)\n",
    "print(der_x)\n",
    "print(der_y)"
   ]
  },
  {
   "cell_type": "markdown",
   "id": "de1f651e-e79d-4727-ad35-edec19ffeef1",
   "metadata": {},
   "source": [
    "***Question No.7***"
   ]
  },
  {
   "cell_type": "code",
   "execution_count": 23,
   "id": "bf1b93a0-436a-416b-a5c2-1c16fc9978ac",
   "metadata": {},
   "outputs": [],
   "source": [
    "pytn_dict={\"2022\":{\"branch_1\":{\"Roll_No\":101,\"Name\":'Harry',\"Marks\":{\"Physics\":100,\"Maths\":98}},\n",
    "\n",
    "              \"branch_2\":{\"Roll_No\":102,\"Name\":'Rohan',\"Marks\":{\"Chemistry\":90,\"English\":99}}},\n",
    "\n",
    "       \"2023\":{\"branch_1\":{\"Roll_No\":201,\"Name\":'Krishna',\"Marks\":{\"Physics\":100,\"Maths\":98}},\n",
    "\n",
    "              \"branch_2\":{\"Roll_No\":202,\"Name\":'Hari',\"Marks\":{\"Chemistry\":85,\"English\":95}}},\n",
    "\n",
    "       \"2024\":{\"branch_1\":{\"Roll_No\":301,\"Name\":'Mayank',\"Marks\":{\"Physics\":70,\"Maths\":28}},\n",
    "\n",
    "              \"branch_2\":{\"Roll_No\":302,\"Name\":'Riyash',\"Marks\":{\"Chemistry\":92,\"English\":19}}},\n",
    "\n",
    "       \"2025\":{\"branch_1\":{\"Roll_No\":401,\"Name\":'Ravi',\"Marks\":{\"Physics\":56,\"Maths\":48}},\n",
    "\n",
    "              \"branch_2\":{\"Roll_No\":402,\"Name\":'Shivam',\"Marks\":{\"Chemistry\":60,\"English\":89}}}\n",
    "       }"
   ]
  },
  {
   "cell_type": "code",
   "execution_count": 24,
   "id": "3634f501-66cd-46df-920c-fb2968f58658",
   "metadata": {},
   "outputs": [
    {
     "data": {
      "text/plain": [
       "{'2022': {'branch_1': {'Roll_No': 101,\n",
       "   'Name': 'Harry',\n",
       "   'Marks': {'Physics': 100, 'Maths': 98}},\n",
       "  'branch_2': {'Roll_No': 102,\n",
       "   'Name': 'Rohan',\n",
       "   'Marks': {'Chemistry': 90, 'English': 99}}},\n",
       " '2023': {'branch_1': {'Roll_No': 201,\n",
       "   'Name': 'Krishna',\n",
       "   'Marks': {'Physics': 100, 'Maths': 98}},\n",
       "  'branch_2': {'Roll_No': 202,\n",
       "   'Name': 'Hari',\n",
       "   'Marks': {'Chemistry': 85, 'English': 95}}},\n",
       " '2024': {'branch_1': {'Roll_No': 301,\n",
       "   'Name': 'Mayank',\n",
       "   'Marks': {'Physics': 70, 'Maths': 28}},\n",
       "  'branch_2': {'Roll_No': 302,\n",
       "   'Name': 'Riyash',\n",
       "   'Marks': {'Chemistry': 92, 'English': 19}}},\n",
       " '2025': {'branch_1': {'Roll_No': 401,\n",
       "   'Name': 'Ravi',\n",
       "   'Marks': {'Physics': 56, 'Maths': 48}},\n",
       "  'branch_2': {'Roll_No': 402,\n",
       "   'Name': 'Shivam',\n",
       "   'Marks': {'Chemistry': 60, 'English': 89}}}}"
      ]
     },
     "execution_count": 24,
     "metadata": {},
     "output_type": "execute_result"
    }
   ],
   "source": [
    "pytn_dict"
   ]
  },
  {
   "cell_type": "markdown",
   "id": "37b16eaf-f1d6-449b-92e8-b5cf5135a5a3",
   "metadata": {},
   "source": [
    "***Question No.8***"
   ]
  },
  {
   "cell_type": "code",
   "execution_count": 25,
   "id": "495b6bc5-62c0-48ab-b63c-f7107995a715",
   "metadata": {},
   "outputs": [],
   "source": [
    "class Student:\n",
    "    def __init__(self, year, branch, rollNo, name, **subjectWithMakrs):\n",
    "        self.year=year\n",
    "        self.branch=branch\n",
    "        self.rollNo=rollNo\n",
    "        self.name=name\n",
    "        self.subjectWithMakrs=subjectWithMakrs\n",
    "\n",
    "    def __str__(self):\n",
    "        return f\"Name: {self.name}, \\nRoll No: {self.rollNo}, \\nBranch: {self.branch}, \\nYear: {self.year}, \\nSubjects: {self.subjectWithMakrs}\"\n"
   ]
  },
  {
   "cell_type": "code",
   "execution_count": 26,
   "id": "3a8c7cd0-7ebb-450e-8e2a-ef0d1927c138",
   "metadata": {},
   "outputs": [
    {
     "name": "stdout",
     "output_type": "stream",
     "text": [
      "Name: sawan, \n",
      "Roll No: 101, \n",
      "Branch: Computer Science, \n",
      "Year: 2022, \n",
      "Subjects: {'Maths': 100, 'Physics': 98}\n",
      "Name: prince, \n",
      "Roll No: 102, \n",
      "Branch: Computer Science, \n",
      "Year: 2023, \n",
      "Subjects: {'Maths': 99, 'Physics': 97}\n"
     ]
    }
   ],
   "source": [
    "std1=Student(2022,\"Computer Science\",101,\"sawan\",Maths=100,Physics=98)\n",
    "std2=Student(2023,\"Computer Science\",102,\"prince\",Maths=99,Physics=97)\n",
    "print(std1.__str__())\n",
    "print(std2.__str__())"
   ]
  },
  {
   "cell_type": "markdown",
   "id": "40679360-3653-4cba-be4d-74e48af7130b",
   "metadata": {},
   "source": [
    "***Question no.10***"
   ]
  },
  {
   "cell_type": "code",
   "execution_count": 27,
   "id": "f2ba6e71-3766-4c2c-9847-c9d60261c595",
   "metadata": {},
   "outputs": [
    {
     "data": {
      "text/plain": [
       "array([[1.42713889, 1.79037267, 1.95987106, 1.93169131, 1.92980177],\n",
       "       [1.70581039, 1.03781864, 1.68880325, 1.85950198, 1.10864695],\n",
       "       [1.54311435, 1.31238931, 1.50245268, 1.52205738, 1.93913055],\n",
       "       [1.4971826 , 1.77629103, 1.37595307, 1.65473742, 1.8207601 ],\n",
       "       [1.4868385 , 1.03919166, 1.16695416, 1.13574905, 1.06722503],\n",
       "       [1.15530985, 1.91120625, 1.45984416, 1.56281926, 1.12323193],\n",
       "       [1.87162214, 1.80400342, 1.27955266, 1.93704027, 1.71617891],\n",
       "       [1.72534809, 1.45900114, 1.53490366, 1.29829735, 1.04394894],\n",
       "       [1.95966866, 1.17509697, 1.2938227 , 1.71253378, 1.38345478],\n",
       "       [1.17555113, 1.31900519, 1.68713563, 1.57793283, 1.58517713],\n",
       "       [1.70666198, 1.49576057, 1.36544598, 1.22783442, 1.76278583],\n",
       "       [1.4907775 , 1.04189075, 1.81522918, 1.49111631, 1.2480892 ],\n",
       "       [1.02112136, 1.68397665, 1.15309329, 1.95712119, 1.26320955],\n",
       "       [1.95291155, 1.05621048, 1.97855062, 1.24623031, 1.30617152],\n",
       "       [1.04988296, 1.94864529, 1.98979118, 1.4421658 , 1.33618625],\n",
       "       [1.25148065, 1.59769005, 1.4633846 , 1.27378246, 1.54139761],\n",
       "       [1.90210498, 1.19610956, 1.61326008, 1.01734358, 1.22605373],\n",
       "       [1.40879934, 1.75140445, 1.26159556, 1.72847001, 1.92405002],\n",
       "       [1.02404035, 1.12776105, 1.06199964, 1.16674337, 1.6474034 ],\n",
       "       [1.61031541, 1.22369333, 1.73639633, 1.88311213, 1.83781958]])"
      ]
     },
     "execution_count": 27,
     "metadata": {},
     "output_type": "execute_result"
    }
   ],
   "source": [
    "matrix=np.random.uniform(1.0,2.0,size=(20,5))\n",
    "matrix"
   ]
  },
  {
   "cell_type": "markdown",
   "id": "25cd4cce-ab22-4883-9f80-fcf49c60afc2",
   "metadata": {},
   "source": [
    "***Creating Dataframe from matrix***"
   ]
  },
  {
   "cell_type": "code",
   "execution_count": 28,
   "id": "0f2e3a95-bd60-4c48-a3aa-58517eaca6ca",
   "metadata": {},
   "outputs": [
    {
     "data": {
      "text/html": [
       "<div>\n",
       "<style scoped>\n",
       "    .dataframe tbody tr th:only-of-type {\n",
       "        vertical-align: middle;\n",
       "    }\n",
       "\n",
       "    .dataframe tbody tr th {\n",
       "        vertical-align: top;\n",
       "    }\n",
       "\n",
       "    .dataframe thead th {\n",
       "        text-align: right;\n",
       "    }\n",
       "</style>\n",
       "<table border=\"1\" class=\"dataframe\">\n",
       "  <thead>\n",
       "    <tr style=\"text-align: right;\">\n",
       "      <th></th>\n",
       "      <th>a</th>\n",
       "      <th>b</th>\n",
       "      <th>c</th>\n",
       "      <th>d</th>\n",
       "      <th>e</th>\n",
       "    </tr>\n",
       "  </thead>\n",
       "  <tbody>\n",
       "    <tr>\n",
       "      <th>0</th>\n",
       "      <td>1.427139</td>\n",
       "      <td>1.790373</td>\n",
       "      <td>1.959871</td>\n",
       "      <td>1.931691</td>\n",
       "      <td>1.929802</td>\n",
       "    </tr>\n",
       "    <tr>\n",
       "      <th>1</th>\n",
       "      <td>1.705810</td>\n",
       "      <td>1.037819</td>\n",
       "      <td>1.688803</td>\n",
       "      <td>1.859502</td>\n",
       "      <td>1.108647</td>\n",
       "    </tr>\n",
       "    <tr>\n",
       "      <th>2</th>\n",
       "      <td>1.543114</td>\n",
       "      <td>1.312389</td>\n",
       "      <td>1.502453</td>\n",
       "      <td>1.522057</td>\n",
       "      <td>1.939131</td>\n",
       "    </tr>\n",
       "    <tr>\n",
       "      <th>3</th>\n",
       "      <td>1.497183</td>\n",
       "      <td>1.776291</td>\n",
       "      <td>1.375953</td>\n",
       "      <td>1.654737</td>\n",
       "      <td>1.820760</td>\n",
       "    </tr>\n",
       "    <tr>\n",
       "      <th>4</th>\n",
       "      <td>1.486839</td>\n",
       "      <td>1.039192</td>\n",
       "      <td>1.166954</td>\n",
       "      <td>1.135749</td>\n",
       "      <td>1.067225</td>\n",
       "    </tr>\n",
       "    <tr>\n",
       "      <th>5</th>\n",
       "      <td>1.155310</td>\n",
       "      <td>1.911206</td>\n",
       "      <td>1.459844</td>\n",
       "      <td>1.562819</td>\n",
       "      <td>1.123232</td>\n",
       "    </tr>\n",
       "    <tr>\n",
       "      <th>6</th>\n",
       "      <td>1.871622</td>\n",
       "      <td>1.804003</td>\n",
       "      <td>1.279553</td>\n",
       "      <td>1.937040</td>\n",
       "      <td>1.716179</td>\n",
       "    </tr>\n",
       "    <tr>\n",
       "      <th>7</th>\n",
       "      <td>1.725348</td>\n",
       "      <td>1.459001</td>\n",
       "      <td>1.534904</td>\n",
       "      <td>1.298297</td>\n",
       "      <td>1.043949</td>\n",
       "    </tr>\n",
       "    <tr>\n",
       "      <th>8</th>\n",
       "      <td>1.959669</td>\n",
       "      <td>1.175097</td>\n",
       "      <td>1.293823</td>\n",
       "      <td>1.712534</td>\n",
       "      <td>1.383455</td>\n",
       "    </tr>\n",
       "    <tr>\n",
       "      <th>9</th>\n",
       "      <td>1.175551</td>\n",
       "      <td>1.319005</td>\n",
       "      <td>1.687136</td>\n",
       "      <td>1.577933</td>\n",
       "      <td>1.585177</td>\n",
       "    </tr>\n",
       "    <tr>\n",
       "      <th>10</th>\n",
       "      <td>1.706662</td>\n",
       "      <td>1.495761</td>\n",
       "      <td>1.365446</td>\n",
       "      <td>1.227834</td>\n",
       "      <td>1.762786</td>\n",
       "    </tr>\n",
       "    <tr>\n",
       "      <th>11</th>\n",
       "      <td>1.490778</td>\n",
       "      <td>1.041891</td>\n",
       "      <td>1.815229</td>\n",
       "      <td>1.491116</td>\n",
       "      <td>1.248089</td>\n",
       "    </tr>\n",
       "    <tr>\n",
       "      <th>12</th>\n",
       "      <td>1.021121</td>\n",
       "      <td>1.683977</td>\n",
       "      <td>1.153093</td>\n",
       "      <td>1.957121</td>\n",
       "      <td>1.263210</td>\n",
       "    </tr>\n",
       "    <tr>\n",
       "      <th>13</th>\n",
       "      <td>1.952912</td>\n",
       "      <td>1.056210</td>\n",
       "      <td>1.978551</td>\n",
       "      <td>1.246230</td>\n",
       "      <td>1.306172</td>\n",
       "    </tr>\n",
       "    <tr>\n",
       "      <th>14</th>\n",
       "      <td>1.049883</td>\n",
       "      <td>1.948645</td>\n",
       "      <td>1.989791</td>\n",
       "      <td>1.442166</td>\n",
       "      <td>1.336186</td>\n",
       "    </tr>\n",
       "    <tr>\n",
       "      <th>15</th>\n",
       "      <td>1.251481</td>\n",
       "      <td>1.597690</td>\n",
       "      <td>1.463385</td>\n",
       "      <td>1.273782</td>\n",
       "      <td>1.541398</td>\n",
       "    </tr>\n",
       "    <tr>\n",
       "      <th>16</th>\n",
       "      <td>1.902105</td>\n",
       "      <td>1.196110</td>\n",
       "      <td>1.613260</td>\n",
       "      <td>1.017344</td>\n",
       "      <td>1.226054</td>\n",
       "    </tr>\n",
       "    <tr>\n",
       "      <th>17</th>\n",
       "      <td>1.408799</td>\n",
       "      <td>1.751404</td>\n",
       "      <td>1.261596</td>\n",
       "      <td>1.728470</td>\n",
       "      <td>1.924050</td>\n",
       "    </tr>\n",
       "    <tr>\n",
       "      <th>18</th>\n",
       "      <td>1.024040</td>\n",
       "      <td>1.127761</td>\n",
       "      <td>1.062000</td>\n",
       "      <td>1.166743</td>\n",
       "      <td>1.647403</td>\n",
       "    </tr>\n",
       "    <tr>\n",
       "      <th>19</th>\n",
       "      <td>1.610315</td>\n",
       "      <td>1.223693</td>\n",
       "      <td>1.736396</td>\n",
       "      <td>1.883112</td>\n",
       "      <td>1.837820</td>\n",
       "    </tr>\n",
       "  </tbody>\n",
       "</table>\n",
       "</div>"
      ],
      "text/plain": [
       "           a         b         c         d         e\n",
       "0   1.427139  1.790373  1.959871  1.931691  1.929802\n",
       "1   1.705810  1.037819  1.688803  1.859502  1.108647\n",
       "2   1.543114  1.312389  1.502453  1.522057  1.939131\n",
       "3   1.497183  1.776291  1.375953  1.654737  1.820760\n",
       "4   1.486839  1.039192  1.166954  1.135749  1.067225\n",
       "5   1.155310  1.911206  1.459844  1.562819  1.123232\n",
       "6   1.871622  1.804003  1.279553  1.937040  1.716179\n",
       "7   1.725348  1.459001  1.534904  1.298297  1.043949\n",
       "8   1.959669  1.175097  1.293823  1.712534  1.383455\n",
       "9   1.175551  1.319005  1.687136  1.577933  1.585177\n",
       "10  1.706662  1.495761  1.365446  1.227834  1.762786\n",
       "11  1.490778  1.041891  1.815229  1.491116  1.248089\n",
       "12  1.021121  1.683977  1.153093  1.957121  1.263210\n",
       "13  1.952912  1.056210  1.978551  1.246230  1.306172\n",
       "14  1.049883  1.948645  1.989791  1.442166  1.336186\n",
       "15  1.251481  1.597690  1.463385  1.273782  1.541398\n",
       "16  1.902105  1.196110  1.613260  1.017344  1.226054\n",
       "17  1.408799  1.751404  1.261596  1.728470  1.924050\n",
       "18  1.024040  1.127761  1.062000  1.166743  1.647403\n",
       "19  1.610315  1.223693  1.736396  1.883112  1.837820"
      ]
     },
     "execution_count": 28,
     "metadata": {},
     "output_type": "execute_result"
    }
   ],
   "source": [
    "df = pd.DataFrame(matrix, columns=['a','b','c','d','e'])\n",
    "df"
   ]
  },
  {
   "cell_type": "markdown",
   "id": "8acaa3c0-53ec-4b12-87a3-3f41c9469289",
   "metadata": {},
   "source": [
    "**Column with highest S.D**"
   ]
  },
  {
   "cell_type": "code",
   "execution_count": 29,
   "id": "72d69b19-151f-4acf-840c-e136e7aa1986",
   "metadata": {},
   "outputs": [
    {
     "name": "stdout",
     "output_type": "stream",
     "text": [
      "[0.30201278 0.31359586 0.27571058 0.29025824 0.30676037]\n"
     ]
    },
    {
     "data": {
      "text/plain": [
       "'b'"
      ]
     },
     "execution_count": 29,
     "metadata": {},
     "output_type": "execute_result"
    }
   ],
   "source": [
    "std_deviation = np.std(matrix, axis=0)\n",
    "print(std_deviation)\n",
    "max_SD_column = np.argmax(std_deviation)\n",
    "df.columns[max_SD_column]"
   ]
  },
  {
   "cell_type": "markdown",
   "id": "e7cf18a4-3a73-4d14-a56a-d9fe14152c03",
   "metadata": {},
   "source": [
    "***Row with the lowest mean***"
   ]
  },
  {
   "cell_type": "code",
   "execution_count": 30,
   "id": "5dd722f3-ea2f-407c-8b9c-67f93921b7da",
   "metadata": {},
   "outputs": [
    {
     "name": "stdout",
     "output_type": "stream",
     "text": [
      "Row no.: 4\n",
      "\t\t\ta\t\t\tb\t\t\tc\t\t\td\t\t\te\n",
      "\t1.4868385033947105\t1.0391916649141626\t1.1669541573018152\t1.135749054599466\t1.067225030490148"
     ]
    }
   ],
   "source": [
    "means = np.mean(matrix, axis=1)\n",
    "row = np.argmin(means)\n",
    "print(f'Row no.: {row}')\n",
    "for i in df.columns:\n",
    "    print(f'\\t\\t\\t{i}',end='')\n",
    "print()\n",
    "for i in df.columns:\n",
    "    print(f'\\t{df[i][row]}',end='')"
   ]
  },
  {
   "cell_type": "markdown",
   "id": "2db51adb-d142-416f-9215-d3914bd4dcaf",
   "metadata": {},
   "source": [
    "***Question No.11***"
   ]
  },
  {
   "cell_type": "code",
   "execution_count": 31,
   "id": "551d0dcf-737e-44d6-93e8-1fe6a83b4317",
   "metadata": {},
   "outputs": [],
   "source": [
    "#Add a new Column\n",
    "for index, row in df.iterrows():\n",
    "    df.loc[index, 'f'] = sum(row)"
   ]
  },
  {
   "cell_type": "code",
   "execution_count": 32,
   "id": "eb7ab8ee-2683-4e99-86a2-9cde0b934526",
   "metadata": {},
   "outputs": [
    {
     "data": {
      "text/html": [
       "<div>\n",
       "<style scoped>\n",
       "    .dataframe tbody tr th:only-of-type {\n",
       "        vertical-align: middle;\n",
       "    }\n",
       "\n",
       "    .dataframe tbody tr th {\n",
       "        vertical-align: top;\n",
       "    }\n",
       "\n",
       "    .dataframe thead th {\n",
       "        text-align: right;\n",
       "    }\n",
       "</style>\n",
       "<table border=\"1\" class=\"dataframe\">\n",
       "  <thead>\n",
       "    <tr style=\"text-align: right;\">\n",
       "      <th></th>\n",
       "      <th>a</th>\n",
       "      <th>b</th>\n",
       "      <th>c</th>\n",
       "      <th>d</th>\n",
       "      <th>e</th>\n",
       "      <th>f</th>\n",
       "    </tr>\n",
       "  </thead>\n",
       "  <tbody>\n",
       "    <tr>\n",
       "      <th>0</th>\n",
       "      <td>1.427139</td>\n",
       "      <td>1.790373</td>\n",
       "      <td>1.959871</td>\n",
       "      <td>1.931691</td>\n",
       "      <td>1.929802</td>\n",
       "      <td>9.038876</td>\n",
       "    </tr>\n",
       "    <tr>\n",
       "      <th>1</th>\n",
       "      <td>1.705810</td>\n",
       "      <td>1.037819</td>\n",
       "      <td>1.688803</td>\n",
       "      <td>1.859502</td>\n",
       "      <td>1.108647</td>\n",
       "      <td>7.400581</td>\n",
       "    </tr>\n",
       "    <tr>\n",
       "      <th>2</th>\n",
       "      <td>1.543114</td>\n",
       "      <td>1.312389</td>\n",
       "      <td>1.502453</td>\n",
       "      <td>1.522057</td>\n",
       "      <td>1.939131</td>\n",
       "      <td>7.819144</td>\n",
       "    </tr>\n",
       "    <tr>\n",
       "      <th>3</th>\n",
       "      <td>1.497183</td>\n",
       "      <td>1.776291</td>\n",
       "      <td>1.375953</td>\n",
       "      <td>1.654737</td>\n",
       "      <td>1.820760</td>\n",
       "      <td>8.124924</td>\n",
       "    </tr>\n",
       "    <tr>\n",
       "      <th>4</th>\n",
       "      <td>1.486839</td>\n",
       "      <td>1.039192</td>\n",
       "      <td>1.166954</td>\n",
       "      <td>1.135749</td>\n",
       "      <td>1.067225</td>\n",
       "      <td>5.895958</td>\n",
       "    </tr>\n",
       "    <tr>\n",
       "      <th>5</th>\n",
       "      <td>1.155310</td>\n",
       "      <td>1.911206</td>\n",
       "      <td>1.459844</td>\n",
       "      <td>1.562819</td>\n",
       "      <td>1.123232</td>\n",
       "      <td>7.212411</td>\n",
       "    </tr>\n",
       "    <tr>\n",
       "      <th>6</th>\n",
       "      <td>1.871622</td>\n",
       "      <td>1.804003</td>\n",
       "      <td>1.279553</td>\n",
       "      <td>1.937040</td>\n",
       "      <td>1.716179</td>\n",
       "      <td>8.608397</td>\n",
       "    </tr>\n",
       "    <tr>\n",
       "      <th>7</th>\n",
       "      <td>1.725348</td>\n",
       "      <td>1.459001</td>\n",
       "      <td>1.534904</td>\n",
       "      <td>1.298297</td>\n",
       "      <td>1.043949</td>\n",
       "      <td>7.061499</td>\n",
       "    </tr>\n",
       "    <tr>\n",
       "      <th>8</th>\n",
       "      <td>1.959669</td>\n",
       "      <td>1.175097</td>\n",
       "      <td>1.293823</td>\n",
       "      <td>1.712534</td>\n",
       "      <td>1.383455</td>\n",
       "      <td>7.524577</td>\n",
       "    </tr>\n",
       "    <tr>\n",
       "      <th>9</th>\n",
       "      <td>1.175551</td>\n",
       "      <td>1.319005</td>\n",
       "      <td>1.687136</td>\n",
       "      <td>1.577933</td>\n",
       "      <td>1.585177</td>\n",
       "      <td>7.344802</td>\n",
       "    </tr>\n",
       "    <tr>\n",
       "      <th>10</th>\n",
       "      <td>1.706662</td>\n",
       "      <td>1.495761</td>\n",
       "      <td>1.365446</td>\n",
       "      <td>1.227834</td>\n",
       "      <td>1.762786</td>\n",
       "      <td>7.558489</td>\n",
       "    </tr>\n",
       "    <tr>\n",
       "      <th>11</th>\n",
       "      <td>1.490778</td>\n",
       "      <td>1.041891</td>\n",
       "      <td>1.815229</td>\n",
       "      <td>1.491116</td>\n",
       "      <td>1.248089</td>\n",
       "      <td>7.087103</td>\n",
       "    </tr>\n",
       "    <tr>\n",
       "      <th>12</th>\n",
       "      <td>1.021121</td>\n",
       "      <td>1.683977</td>\n",
       "      <td>1.153093</td>\n",
       "      <td>1.957121</td>\n",
       "      <td>1.263210</td>\n",
       "      <td>7.078522</td>\n",
       "    </tr>\n",
       "    <tr>\n",
       "      <th>13</th>\n",
       "      <td>1.952912</td>\n",
       "      <td>1.056210</td>\n",
       "      <td>1.978551</td>\n",
       "      <td>1.246230</td>\n",
       "      <td>1.306172</td>\n",
       "      <td>7.540074</td>\n",
       "    </tr>\n",
       "    <tr>\n",
       "      <th>14</th>\n",
       "      <td>1.049883</td>\n",
       "      <td>1.948645</td>\n",
       "      <td>1.989791</td>\n",
       "      <td>1.442166</td>\n",
       "      <td>1.336186</td>\n",
       "      <td>7.766671</td>\n",
       "    </tr>\n",
       "    <tr>\n",
       "      <th>15</th>\n",
       "      <td>1.251481</td>\n",
       "      <td>1.597690</td>\n",
       "      <td>1.463385</td>\n",
       "      <td>1.273782</td>\n",
       "      <td>1.541398</td>\n",
       "      <td>7.127735</td>\n",
       "    </tr>\n",
       "    <tr>\n",
       "      <th>16</th>\n",
       "      <td>1.902105</td>\n",
       "      <td>1.196110</td>\n",
       "      <td>1.613260</td>\n",
       "      <td>1.017344</td>\n",
       "      <td>1.226054</td>\n",
       "      <td>6.954872</td>\n",
       "    </tr>\n",
       "    <tr>\n",
       "      <th>17</th>\n",
       "      <td>1.408799</td>\n",
       "      <td>1.751404</td>\n",
       "      <td>1.261596</td>\n",
       "      <td>1.728470</td>\n",
       "      <td>1.924050</td>\n",
       "      <td>8.074319</td>\n",
       "    </tr>\n",
       "    <tr>\n",
       "      <th>18</th>\n",
       "      <td>1.024040</td>\n",
       "      <td>1.127761</td>\n",
       "      <td>1.062000</td>\n",
       "      <td>1.166743</td>\n",
       "      <td>1.647403</td>\n",
       "      <td>6.027948</td>\n",
       "    </tr>\n",
       "    <tr>\n",
       "      <th>19</th>\n",
       "      <td>1.610315</td>\n",
       "      <td>1.223693</td>\n",
       "      <td>1.736396</td>\n",
       "      <td>1.883112</td>\n",
       "      <td>1.837820</td>\n",
       "      <td>8.291337</td>\n",
       "    </tr>\n",
       "  </tbody>\n",
       "</table>\n",
       "</div>"
      ],
      "text/plain": [
       "           a         b         c         d         e         f\n",
       "0   1.427139  1.790373  1.959871  1.931691  1.929802  9.038876\n",
       "1   1.705810  1.037819  1.688803  1.859502  1.108647  7.400581\n",
       "2   1.543114  1.312389  1.502453  1.522057  1.939131  7.819144\n",
       "3   1.497183  1.776291  1.375953  1.654737  1.820760  8.124924\n",
       "4   1.486839  1.039192  1.166954  1.135749  1.067225  5.895958\n",
       "5   1.155310  1.911206  1.459844  1.562819  1.123232  7.212411\n",
       "6   1.871622  1.804003  1.279553  1.937040  1.716179  8.608397\n",
       "7   1.725348  1.459001  1.534904  1.298297  1.043949  7.061499\n",
       "8   1.959669  1.175097  1.293823  1.712534  1.383455  7.524577\n",
       "9   1.175551  1.319005  1.687136  1.577933  1.585177  7.344802\n",
       "10  1.706662  1.495761  1.365446  1.227834  1.762786  7.558489\n",
       "11  1.490778  1.041891  1.815229  1.491116  1.248089  7.087103\n",
       "12  1.021121  1.683977  1.153093  1.957121  1.263210  7.078522\n",
       "13  1.952912  1.056210  1.978551  1.246230  1.306172  7.540074\n",
       "14  1.049883  1.948645  1.989791  1.442166  1.336186  7.766671\n",
       "15  1.251481  1.597690  1.463385  1.273782  1.541398  7.127735\n",
       "16  1.902105  1.196110  1.613260  1.017344  1.226054  6.954872\n",
       "17  1.408799  1.751404  1.261596  1.728470  1.924050  8.074319\n",
       "18  1.024040  1.127761  1.062000  1.166743  1.647403  6.027948\n",
       "19  1.610315  1.223693  1.736396  1.883112  1.837820  8.291337"
      ]
     },
     "execution_count": 32,
     "metadata": {},
     "output_type": "execute_result"
    }
   ],
   "source": [
    "df"
   ]
  },
  {
   "cell_type": "code",
   "execution_count": 33,
   "id": "ab9235ec-c338-4c96-9e1e-040b53f9d512",
   "metadata": {},
   "outputs": [
    {
     "name": "stderr",
     "output_type": "stream",
     "text": [
      "C:\\Users\\hp\\AppData\\Local\\Temp\\ipykernel_13220\\2910906865.py:3: FutureWarning: Series.__getitem__ treating keys as positions is deprecated. In a future version, integer keys will always be treated as labels (consistent with DataFrame behavior). To access a value by position, use `ser.iloc[pos]`\n",
      "  df.loc[index, 'g'] = 'LT8' if row[5]<8 else 'GT8'\n",
      "C:\\Users\\hp\\AppData\\Local\\Temp\\ipykernel_13220\\2910906865.py:3: FutureWarning: Series.__getitem__ treating keys as positions is deprecated. In a future version, integer keys will always be treated as labels (consistent with DataFrame behavior). To access a value by position, use `ser.iloc[pos]`\n",
      "  df.loc[index, 'g'] = 'LT8' if row[5]<8 else 'GT8'\n"
     ]
    }
   ],
   "source": [
    "#Adding column g\n",
    "for index, row in df.iterrows():\n",
    "    df.loc[index, 'g'] = 'LT8' if row[5]<8 else 'GT8'"
   ]
  },
  {
   "cell_type": "code",
   "execution_count": 34,
   "id": "b259a3e6-3e15-444f-952c-749cd64d7ee1",
   "metadata": {},
   "outputs": [
    {
     "data": {
      "text/html": [
       "<div>\n",
       "<style scoped>\n",
       "    .dataframe tbody tr th:only-of-type {\n",
       "        vertical-align: middle;\n",
       "    }\n",
       "\n",
       "    .dataframe tbody tr th {\n",
       "        vertical-align: top;\n",
       "    }\n",
       "\n",
       "    .dataframe thead th {\n",
       "        text-align: right;\n",
       "    }\n",
       "</style>\n",
       "<table border=\"1\" class=\"dataframe\">\n",
       "  <thead>\n",
       "    <tr style=\"text-align: right;\">\n",
       "      <th></th>\n",
       "      <th>a</th>\n",
       "      <th>b</th>\n",
       "      <th>c</th>\n",
       "      <th>d</th>\n",
       "      <th>e</th>\n",
       "      <th>f</th>\n",
       "      <th>g</th>\n",
       "    </tr>\n",
       "  </thead>\n",
       "  <tbody>\n",
       "    <tr>\n",
       "      <th>0</th>\n",
       "      <td>1.427139</td>\n",
       "      <td>1.790373</td>\n",
       "      <td>1.959871</td>\n",
       "      <td>1.931691</td>\n",
       "      <td>1.929802</td>\n",
       "      <td>9.038876</td>\n",
       "      <td>GT8</td>\n",
       "    </tr>\n",
       "    <tr>\n",
       "      <th>1</th>\n",
       "      <td>1.705810</td>\n",
       "      <td>1.037819</td>\n",
       "      <td>1.688803</td>\n",
       "      <td>1.859502</td>\n",
       "      <td>1.108647</td>\n",
       "      <td>7.400581</td>\n",
       "      <td>LT8</td>\n",
       "    </tr>\n",
       "    <tr>\n",
       "      <th>2</th>\n",
       "      <td>1.543114</td>\n",
       "      <td>1.312389</td>\n",
       "      <td>1.502453</td>\n",
       "      <td>1.522057</td>\n",
       "      <td>1.939131</td>\n",
       "      <td>7.819144</td>\n",
       "      <td>LT8</td>\n",
       "    </tr>\n",
       "    <tr>\n",
       "      <th>3</th>\n",
       "      <td>1.497183</td>\n",
       "      <td>1.776291</td>\n",
       "      <td>1.375953</td>\n",
       "      <td>1.654737</td>\n",
       "      <td>1.820760</td>\n",
       "      <td>8.124924</td>\n",
       "      <td>GT8</td>\n",
       "    </tr>\n",
       "    <tr>\n",
       "      <th>4</th>\n",
       "      <td>1.486839</td>\n",
       "      <td>1.039192</td>\n",
       "      <td>1.166954</td>\n",
       "      <td>1.135749</td>\n",
       "      <td>1.067225</td>\n",
       "      <td>5.895958</td>\n",
       "      <td>LT8</td>\n",
       "    </tr>\n",
       "    <tr>\n",
       "      <th>5</th>\n",
       "      <td>1.155310</td>\n",
       "      <td>1.911206</td>\n",
       "      <td>1.459844</td>\n",
       "      <td>1.562819</td>\n",
       "      <td>1.123232</td>\n",
       "      <td>7.212411</td>\n",
       "      <td>LT8</td>\n",
       "    </tr>\n",
       "    <tr>\n",
       "      <th>6</th>\n",
       "      <td>1.871622</td>\n",
       "      <td>1.804003</td>\n",
       "      <td>1.279553</td>\n",
       "      <td>1.937040</td>\n",
       "      <td>1.716179</td>\n",
       "      <td>8.608397</td>\n",
       "      <td>GT8</td>\n",
       "    </tr>\n",
       "    <tr>\n",
       "      <th>7</th>\n",
       "      <td>1.725348</td>\n",
       "      <td>1.459001</td>\n",
       "      <td>1.534904</td>\n",
       "      <td>1.298297</td>\n",
       "      <td>1.043949</td>\n",
       "      <td>7.061499</td>\n",
       "      <td>LT8</td>\n",
       "    </tr>\n",
       "    <tr>\n",
       "      <th>8</th>\n",
       "      <td>1.959669</td>\n",
       "      <td>1.175097</td>\n",
       "      <td>1.293823</td>\n",
       "      <td>1.712534</td>\n",
       "      <td>1.383455</td>\n",
       "      <td>7.524577</td>\n",
       "      <td>LT8</td>\n",
       "    </tr>\n",
       "    <tr>\n",
       "      <th>9</th>\n",
       "      <td>1.175551</td>\n",
       "      <td>1.319005</td>\n",
       "      <td>1.687136</td>\n",
       "      <td>1.577933</td>\n",
       "      <td>1.585177</td>\n",
       "      <td>7.344802</td>\n",
       "      <td>LT8</td>\n",
       "    </tr>\n",
       "    <tr>\n",
       "      <th>10</th>\n",
       "      <td>1.706662</td>\n",
       "      <td>1.495761</td>\n",
       "      <td>1.365446</td>\n",
       "      <td>1.227834</td>\n",
       "      <td>1.762786</td>\n",
       "      <td>7.558489</td>\n",
       "      <td>LT8</td>\n",
       "    </tr>\n",
       "    <tr>\n",
       "      <th>11</th>\n",
       "      <td>1.490778</td>\n",
       "      <td>1.041891</td>\n",
       "      <td>1.815229</td>\n",
       "      <td>1.491116</td>\n",
       "      <td>1.248089</td>\n",
       "      <td>7.087103</td>\n",
       "      <td>LT8</td>\n",
       "    </tr>\n",
       "    <tr>\n",
       "      <th>12</th>\n",
       "      <td>1.021121</td>\n",
       "      <td>1.683977</td>\n",
       "      <td>1.153093</td>\n",
       "      <td>1.957121</td>\n",
       "      <td>1.263210</td>\n",
       "      <td>7.078522</td>\n",
       "      <td>LT8</td>\n",
       "    </tr>\n",
       "    <tr>\n",
       "      <th>13</th>\n",
       "      <td>1.952912</td>\n",
       "      <td>1.056210</td>\n",
       "      <td>1.978551</td>\n",
       "      <td>1.246230</td>\n",
       "      <td>1.306172</td>\n",
       "      <td>7.540074</td>\n",
       "      <td>LT8</td>\n",
       "    </tr>\n",
       "    <tr>\n",
       "      <th>14</th>\n",
       "      <td>1.049883</td>\n",
       "      <td>1.948645</td>\n",
       "      <td>1.989791</td>\n",
       "      <td>1.442166</td>\n",
       "      <td>1.336186</td>\n",
       "      <td>7.766671</td>\n",
       "      <td>LT8</td>\n",
       "    </tr>\n",
       "    <tr>\n",
       "      <th>15</th>\n",
       "      <td>1.251481</td>\n",
       "      <td>1.597690</td>\n",
       "      <td>1.463385</td>\n",
       "      <td>1.273782</td>\n",
       "      <td>1.541398</td>\n",
       "      <td>7.127735</td>\n",
       "      <td>LT8</td>\n",
       "    </tr>\n",
       "    <tr>\n",
       "      <th>16</th>\n",
       "      <td>1.902105</td>\n",
       "      <td>1.196110</td>\n",
       "      <td>1.613260</td>\n",
       "      <td>1.017344</td>\n",
       "      <td>1.226054</td>\n",
       "      <td>6.954872</td>\n",
       "      <td>LT8</td>\n",
       "    </tr>\n",
       "    <tr>\n",
       "      <th>17</th>\n",
       "      <td>1.408799</td>\n",
       "      <td>1.751404</td>\n",
       "      <td>1.261596</td>\n",
       "      <td>1.728470</td>\n",
       "      <td>1.924050</td>\n",
       "      <td>8.074319</td>\n",
       "      <td>GT8</td>\n",
       "    </tr>\n",
       "    <tr>\n",
       "      <th>18</th>\n",
       "      <td>1.024040</td>\n",
       "      <td>1.127761</td>\n",
       "      <td>1.062000</td>\n",
       "      <td>1.166743</td>\n",
       "      <td>1.647403</td>\n",
       "      <td>6.027948</td>\n",
       "      <td>LT8</td>\n",
       "    </tr>\n",
       "    <tr>\n",
       "      <th>19</th>\n",
       "      <td>1.610315</td>\n",
       "      <td>1.223693</td>\n",
       "      <td>1.736396</td>\n",
       "      <td>1.883112</td>\n",
       "      <td>1.837820</td>\n",
       "      <td>8.291337</td>\n",
       "      <td>GT8</td>\n",
       "    </tr>\n",
       "  </tbody>\n",
       "</table>\n",
       "</div>"
      ],
      "text/plain": [
       "           a         b         c         d         e         f    g\n",
       "0   1.427139  1.790373  1.959871  1.931691  1.929802  9.038876  GT8\n",
       "1   1.705810  1.037819  1.688803  1.859502  1.108647  7.400581  LT8\n",
       "2   1.543114  1.312389  1.502453  1.522057  1.939131  7.819144  LT8\n",
       "3   1.497183  1.776291  1.375953  1.654737  1.820760  8.124924  GT8\n",
       "4   1.486839  1.039192  1.166954  1.135749  1.067225  5.895958  LT8\n",
       "5   1.155310  1.911206  1.459844  1.562819  1.123232  7.212411  LT8\n",
       "6   1.871622  1.804003  1.279553  1.937040  1.716179  8.608397  GT8\n",
       "7   1.725348  1.459001  1.534904  1.298297  1.043949  7.061499  LT8\n",
       "8   1.959669  1.175097  1.293823  1.712534  1.383455  7.524577  LT8\n",
       "9   1.175551  1.319005  1.687136  1.577933  1.585177  7.344802  LT8\n",
       "10  1.706662  1.495761  1.365446  1.227834  1.762786  7.558489  LT8\n",
       "11  1.490778  1.041891  1.815229  1.491116  1.248089  7.087103  LT8\n",
       "12  1.021121  1.683977  1.153093  1.957121  1.263210  7.078522  LT8\n",
       "13  1.952912  1.056210  1.978551  1.246230  1.306172  7.540074  LT8\n",
       "14  1.049883  1.948645  1.989791  1.442166  1.336186  7.766671  LT8\n",
       "15  1.251481  1.597690  1.463385  1.273782  1.541398  7.127735  LT8\n",
       "16  1.902105  1.196110  1.613260  1.017344  1.226054  6.954872  LT8\n",
       "17  1.408799  1.751404  1.261596  1.728470  1.924050  8.074319  GT8\n",
       "18  1.024040  1.127761  1.062000  1.166743  1.647403  6.027948  LT8\n",
       "19  1.610315  1.223693  1.736396  1.883112  1.837820  8.291337  GT8"
      ]
     },
     "execution_count": 34,
     "metadata": {},
     "output_type": "execute_result"
    }
   ],
   "source": [
    "df"
   ]
  },
  {
   "cell_type": "code",
   "execution_count": 35,
   "id": "c51d44a9-ec95-4a2d-b068-0bbdc66c89ce",
   "metadata": {},
   "outputs": [
    {
     "data": {
      "text/plain": [
       "g\n",
       "LT8    15\n",
       "GT8     5\n",
       "Name: count, dtype: int64"
      ]
     },
     "execution_count": 35,
     "metadata": {},
     "output_type": "execute_result"
    }
   ],
   "source": [
    "#Finding No. of rows in the dataframe where the value in the column “g” is “LT8\n",
    "df['g'].value_counts()"
   ]
  },
  {
   "cell_type": "code",
   "execution_count": 36,
   "id": "b394dc5d-f6c1-4983-8e62-aa89d50f9e95",
   "metadata": {},
   "outputs": [
    {
     "name": "stdout",
     "output_type": "stream",
     "text": [
      "Std dev of 'f' where 'g' is 'LT8': 0.5527581868913516\n",
      "Std dev of 'f' where 'g' is 'GT8': 0.40041639688762887\n"
     ]
    }
   ],
   "source": [
    "#finding std deviation of f where g == 'GT8' and g == 'LT8'\n",
    "std_dev_LT8 = df[df['g'] == 'LT8']['f'].std()\n",
    "\n",
    "# Standard deviation of 'f' where 'g' is 'GT8'\n",
    "std_dev_GT8 = df[df['g'] == 'GT8']['f'].std()\n",
    "\n",
    "print(f\"Std dev of 'f' where 'g' is 'LT8': {std_dev_LT8}\")\n",
    "print(f\"Std dev of 'f' where 'g' is 'GT8': {std_dev_GT8}\")"
   ]
  },
  {
   "cell_type": "markdown",
   "id": "efcfdf7d-a19b-44f1-92ff-5d4733cf4ad2",
   "metadata": {},
   "source": [
    "***Question No.12***"
   ]
  },
  {
   "cell_type": "code",
   "execution_count": 37,
   "id": "d694b9b5-a2f5-4bdd-9762-3fdf6a5f53b6",
   "metadata": {},
   "outputs": [
    {
     "name": "stdout",
     "output_type": "stream",
     "text": [
      "[[11 22 33]\n",
      " [14 25 36]]\n"
     ]
    }
   ],
   "source": [
    "a = np.array([[1, 2, 3], [4, 5, 6]])\n",
    "b = np.array([10, 20, 30])\n",
    "\n",
    "# Perform broadcasting operation (element-wise addition)\n",
    "result = a + b\n",
    "print(result)"
   ]
  }
 ],
 "metadata": {
  "kernelspec": {
   "display_name": "Python 3 (ipykernel)",
   "language": "python",
   "name": "python3"
  },
  "language_info": {
   "codemirror_mode": {
    "name": "ipython",
    "version": 3
   },
   "file_extension": ".py",
   "mimetype": "text/x-python",
   "name": "python",
   "nbconvert_exporter": "python",
   "pygments_lexer": "ipython3",
   "version": "3.12.1"
  }
 },
 "nbformat": 4,
 "nbformat_minor": 5
}
